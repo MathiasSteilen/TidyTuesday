{
  "cells": [
    {
      "cell_type": "raw",
      "metadata": {},
      "source": [
        "---\n",
        "title: \"Tidy Tuesday\"\n",
        "author: \"Mathias Steilen\"\n",
        "date: \"04/06/2024\"\n",
        "format: \n",
        "  html:\n",
        "    other-links:\n",
        "      - text: TidyTuesday Repo (Data Source)\n",
        "        href: https://github.com/rfordatascience/tidytuesday/tree/master\n",
        "    toc: true\n",
        "    toc-expand: 2\n",
        "    toc-title: \"Table of Contents\"\n",
        "    number-sections: true\n",
        "    code-fold: true\n",
        "    code-tools:\n",
        "      source: true\n",
        "      toggle: true\n",
        "      caption: \"Code Options\"\n",
        "    code-block-bg: true\n",
        "    code-block-border-left: \"#191970\"\n",
        "    highlight-style: monochrome\n",
        "    echo: true\n",
        "    warning: false\n",
        "    embed-resources: true\n",
        "---"
      ],
      "id": "ac46d184"
    },
    {
      "cell_type": "markdown",
      "metadata": {},
      "source": [
        "# Load packages {.unnumbered}\n"
      ],
      "id": "77326195"
    },
    {
      "cell_type": "code",
      "metadata": {},
      "source": [
        "import pandas as pd\n",
        "import numpy as np\n",
        "import plotnine as pn"
      ],
      "id": "092415a6",
      "execution_count": null,
      "outputs": []
    },
    {
      "cell_type": "markdown",
      "metadata": {},
      "source": [
        "# The Data\n",
        "\n",
        "# The Chart(s)\n",
        "\n",
        "## First Chart\n"
      ],
      "id": "584b5642"
    },
    {
      "cell_type": "code",
      "metadata": {
        "cache": true
      },
      "source": [
        "#| echo: true\n",
        "#| warning: false\n",
        "#| label: chart1\n",
        "#| fig-cap: This week's plot innit\n",
        "\n",
        "(\n",
        "    pn.ggplot(data=pd.DataFrame({\"x\": np.random.normal(size=10)}), mapping=pn.aes(\"x\"))\n",
        "    + pn.geom_histogram()\n",
        "    + pn.labs(title=\"Hello\", x=\"Test\", y=\"Test2\")\n",
        ")"
      ],
      "id": "chart1",
      "execution_count": null,
      "outputs": []
    }
  ],
  "metadata": {
    "kernelspec": {
      "name": "python3",
      "language": "python",
      "display_name": "Python 3 (ipykernel)"
    }
  },
  "nbformat": 4,
  "nbformat_minor": 5
}